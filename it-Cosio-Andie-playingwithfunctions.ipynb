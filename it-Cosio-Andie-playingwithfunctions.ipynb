{
 "cells": [
  {
   "cell_type": "code",
   "execution_count": 5,
   "metadata": {},
   "outputs": [
    {
     "name": "stdout",
     "output_type": "stream",
     "text": [
      "Circumference: 24\n"
     ]
    },
    {
     "data": {
      "text/plain": [
       "45.836516424751714"
      ]
     },
     "execution_count": 5,
     "metadata": {},
     "output_type": "execute_result"
    }
   ],
   "source": [
    "# 1\n",
    "# Write a function that takes the circumference of a circle as a parameter and returns the area of that circle.\n",
    "\n",
    "c = int(input('Circumference: '))\n",
    "\n",
    "def area_of_circle(c):\n",
    "    r = (c/(2*3.1416))\n",
    "    a = ((r**2)*3.1416)\n",
    "    return a\n",
    "\n",
    "area_of_circle(c)"
   ]
  },
  {
   "cell_type": "code",
   "execution_count": 6,
   "metadata": {},
   "outputs": [
    {
     "name": "stdout",
     "output_type": "stream",
     "text": [
      "Input text: Hello\n"
     ]
    },
    {
     "data": {
      "text/plain": [
       "'olleH'"
      ]
     },
     "execution_count": 6,
     "metadata": {},
     "output_type": "execute_result"
    }
   ],
   "source": [
    "# 2\n",
    "# Write a function that takes a 5-character string as a parameter and returns the string in reverse order.\n",
    "# Sources: https://www.w3schools.com/python/python_howto_reverse_string.asp\n",
    "\n",
    "s = str(input('Input text: '))\n",
    "\n",
    "def reverse_str(s):\n",
    "    return s[::-1]\n",
    "\n",
    "reverse_str(s)"
   ]
  },
  {
   "cell_type": "code",
   "execution_count": 17,
   "metadata": {},
   "outputs": [
    {
     "name": "stdout",
     "output_type": "stream",
     "text": [
      "Type a positive integer: 5\n"
     ]
    },
    {
     "data": {
      "text/plain": [
       "15"
      ]
     },
     "execution_count": 17,
     "metadata": {},
     "output_type": "execute_result"
    }
   ],
   "source": [
    "# 3\n",
    "# Write a function that takes a positive integer as input and returns the sum of all positive integers smaller than and including the number itself.\n",
    "\n",
    "p = int(input('Type a positive integer: '))\n",
    "\n",
    "def sum_of_parts(p):\n",
    "    return int(((p*(p-1))/2)+p)\n",
    "\n",
    "sum_of_parts(p)"
   ]
  },
  {
   "cell_type": "code",
   "execution_count": 24,
   "metadata": {},
   "outputs": [
    {
     "name": "stdout",
     "output_type": "stream",
     "text": [
      "Type 100: 100\n"
     ]
    },
    {
     "data": {
      "text/plain": [
       "-25164150"
      ]
     },
     "execution_count": 24,
     "metadata": {},
     "output_type": "execute_result"
    }
   ],
   "source": [
    "# 4\n",
    "# Find the difference between the sum of the squares of the first one hundred natural numbers and the square of the sum.\n",
    "# Show code that generates the answer.\n",
    "# Special thanks to https://brainly.in/question/6662161 for the formula\n",
    "\n",
    "n = int(input('Type 100: '))\n",
    "\n",
    "def difference_of_sum_and_square_of_sum(n):\n",
    "    hunsum = ((n*(n + 1)*((2*n) + 1))/6)\n",
    "    square = ((n*(n +1)/2)**2)\n",
    "    return hunsum - square\n",
    "\n",
    "int(difference_of_sum_and_square_of_sum(n))\n",
    "\n",
    "# Not gonna lie, I'm not sure if the output is correct."
   ]
  },
  {
   "cell_type": "code",
   "execution_count": 52,
   "metadata": {},
   "outputs": [
    {
     "name": "stdout",
     "output_type": "stream",
     "text": [
      "Money in cents: Php 69\n",
      "0\n",
      "2\n",
      "1\n",
      "1\n",
      "4\n"
     ]
    }
   ],
   "source": [
    "# 5\n",
    "# Write main program code that accepts the number of cents manually through user input and calls the function written above.\n",
    "# Assume that the Point of Sale system is loaded with 1 cent, 5 cents, 10 cents, 25 cents and 1 peso coins.\n",
    "\n",
    "payment = int(input('Money in cents: Php '))\n",
    "\n",
    "def change_hun(payment):\n",
    "    if payment >= 100:\n",
    "        hun = int(payment/100)\n",
    "        return hun\n",
    "    if payment < 100:\n",
    "        return 0\n",
    "def change_twofive(payment):\n",
    "    if payment >= 25:\n",
    "        twofive = int((payment%100)/25)\n",
    "        return twofive\n",
    "    if payment < 25:\n",
    "        return 0\n",
    "def change_ten(payment):\n",
    "    if payment >= 10:\n",
    "        ten = int(((payment%100)%25)/10)\n",
    "        return ten\n",
    "    if payment < 10:\n",
    "        return 0\n",
    "def change_five(payment):\n",
    "    if payment >= 5:\n",
    "        five = int((((payment%100)%25)%10)/5)\n",
    "        return five\n",
    "    if payment < 5:\n",
    "        return 0\n",
    "def change_one(payment):\n",
    "    if payment >= 1:\n",
    "        one = int(((((payment%100)%25)%10)%5)/1)\n",
    "        return one\n",
    "    if payment < 1:\n",
    "        return 0\n",
    "\n",
    "print(change_hun(payment))\n",
    "print(change_twofive(payment))\n",
    "print(change_ten(payment))\n",
    "print(change_five(payment))\n",
    "print(change_one(payment))"
   ]
  }
 ],
 "metadata": {
  "kernelspec": {
   "display_name": "Python 3",
   "language": "python",
   "name": "python3"
  },
  "language_info": {
   "codemirror_mode": {
    "name": "ipython",
    "version": 3
   },
   "file_extension": ".py",
   "mimetype": "text/x-python",
   "name": "python",
   "nbconvert_exporter": "python",
   "pygments_lexer": "ipython3",
   "version": "3.8.3"
  }
 },
 "nbformat": 4,
 "nbformat_minor": 4
}
